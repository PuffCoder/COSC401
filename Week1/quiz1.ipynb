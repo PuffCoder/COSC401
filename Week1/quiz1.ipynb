{
 "cells": [
  {
   "cell_type": "markdown",
   "metadata": {},
   "source": [
    "# Quiz 1"
   ]
  },
  {
   "cell_type": "markdown",
   "metadata": {},
   "source": [
    "## Question 1\n"
   ]
  },
  {
   "cell_type": "markdown",
   "metadata": {},
   "source": [
    "We use $X$ to refer to the input space; that is, the set of all possible input objects.  \n",
    "A common way of representing objects i using the ` attribute-value system.`  \n",
    "In this system each input object (or point) is represented as a tuple of values(aka a feature vector). \n",
    "\n",
    "As an example, in a problem where the input space has 2 dimensions and the atributes are $color$ and $size$ with domains `{blue, green, yellow}`   \n",
    "and ` {small, large}`, the input space has 6 objects (aks points or elements). For instance, one of these objects i `(green,small)`. \n",
    "\n",
    "Write a function `input_space(domains)` that takes a list of mains of attributes and returns the collection of all objects in the input space.\n",
    "\n",
    "### Input \n",
    "* The list domains will be non-empty.\n",
    "* The length of the list is the dimensionality of the input space.\n",
    "* The i-th element of `domains` is a set (collection) of values that can be taken by the i-th attribute.\n",
    "* Your program will be tested with small domains.\n",
    "\n",
    "### Output\n",
    "The function `input_space(domains) ` must retunr a collection (set,list, ...) of tuples.  \n",
    "The order of the tuples in the collectino is not important.  \n",
    "The order of values in each tuple is important; the i-th value should correspond to the i-th attrubute and its value shold be from the i-th domain.\n",
    "\n",
    "### Notes\n",
    "* You have the option of using one of Python's build-in libraries and answer this question in a few lines of code.\n",
    "* The test code sometimes use capital letters for some variables.  \n",
    "This is only to make the notation similar to that used in the lecture notes.\n",
    "\n"
   ]
  },
  {
   "cell_type": "markdown",
   "metadata": {},
   "source": [
    "![ex1](quiz1_graph/q1example.png)"
   ]
  },
  {
   "cell_type": "code",
   "execution_count": 3,
   "metadata": {},
   "outputs": [
    {
     "name": "stdout",
     "output_type": "stream",
     "text": [
      "\n",
      " The Test 1 result\n",
      "(0, False)\n",
      "(0, True)\n",
      "(1, False)\n",
      "(1, True)\n",
      "(2, False)\n",
      "(2, True)\n",
      "\n",
      " The Test 2 result\n",
      "('blue', -1, 'active')\n",
      "('blue', -1, 'inactive')\n",
      "('blue', 1, 'active')\n",
      "('blue', 1, 'inactive')\n",
      "('green', -1, 'active')\n",
      "('green', -1, 'inactive')\n",
      "('green', 1, 'active')\n",
      "('green', 1, 'inactive')\n",
      "('red', -1, 'active')\n",
      "('red', -1, 'inactive')\n",
      "('red', 1, 'active')\n",
      "('red', 1, 'inactive')\n"
     ]
    }
   ],
   "source": [
    "\n",
    "from itertools import product\n",
    "\n",
    "def input_space(domains):\n",
    "    \"\"\"\n",
    "    generate all the possible subset via\n",
    "    \"\"\"\n",
    "    combinations = list(product(*domains))\n",
    "    return combinations\n",
    "\n",
    "# =========================== test 1 =============================\n",
    "print(\"\\n The Test 1 result\")\n",
    "domains = [\n",
    "{0, 1, 2},\n",
    "{True, False},\n",
    "]\n",
    "\n",
    "for element in sorted(input_space(domains)):\n",
    "    print(element)\n",
    "\n",
    "# =========================== test 2 =============================\n",
    "print(\"\\n The Test 2 result\")\n",
    "domains = [\n",
    "    {'red', 'green', 'blue'},\n",
    "    {1, -1},\n",
    "    {'active', 'inactive'}\n",
    "]\n",
    "for element in sorted(input_space(domains)):\n",
    "    print(element)"
   ]
  },
  {
   "cell_type": "markdown",
   "metadata": {},
   "source": []
  },
  {
   "cell_type": "markdown",
   "metadata": {},
   "source": [
    "## Question 2\n"
   ]
  },
  {
   "cell_type": "markdown",
   "metadata": {},
   "source": [
    "We use $F$ to refer to the set of all possible functions (or predicates or hypotheses or binary classifiers).   \n",
    "Note that $F$ is independent of representation of hypotheses; it always contains all possible functions.  \n",
    "Write a function `all_possible_functions(X)` that takes the entire input space (for some problem) and returns a set of functions that is $F$\n",
    "\n",
    "\n",
    "### Notes\n",
    "* Each member of $F$ must be a function whose domain is the input space and returns True or False.\n",
    "    * $F$ 是一个包含 func 的 set；func 返回 T/F，可以理解成为一个 perceptron.\n",
    "* In Python, functions are hashable and therefore can be added to sets.\n",
    "* Do not make any assumption about the type of elements in X other than that they are hashable.\n",
    "* Your answer will be tested only with small input spaces.\n",
    "* Python’s itertools module may have some useful tools for you.\n",
    "* There are different ways of implementing your answer. In most cases, you will need to create functions in a loop.   \n",
    "These functions probably need to access some non-local variables (in their closure).  \n",
    "If the non-local variable changes after a function is created, the function is still affected.   \n",
    "There are different techniques to avoid this problem. Do your own research on how to create functions in a loop.\n",
    "* In some test cases you may see that the elements of the input space (X) are simple objects (e.g. a string) instead of a tuple (an element of the cartesian product of the domains). This is to a) have simpler more readable test cases; and b) emphasise that different representations can be used to describe input objects.\n",
    "    * Input 为对象 非具体的字符串，数组，。。。"
   ]
  },
  {
   "cell_type": "markdown",
   "metadata": {},
   "source": [
    "![example2](quiz1_graph/q2example.png)"
   ]
  },
  {
   "cell_type": "markdown",
   "metadata": {},
   "source": [
    "### Code "
   ]
  },
  {
   "cell_type": "code",
   "execution_count": 15,
   "metadata": {},
   "outputs": [
    {
     "name": "stdout",
     "output_type": "stream",
     "text": [
      "\n",
      "The Test 1\n",
      "subset  []\n",
      "subset  ['purple']\n",
      "subset  ['green']\n",
      "subset  ['green', 'purple']\n",
      "(False, False)\n",
      "(False, True)\n",
      "(True, False)\n",
      "(True, True)\n"
     ]
    }
   ],
   "source": [
    "\n",
    "from itertools import chain, combinations\n",
    "\n",
    "def all_subsets(s):\n",
    "    \"\"\" Generate all possible subsets \"\"\"\n",
    "    return chain.from_iterable(combinations(s, r) for r in range(len(s)+1))\n",
    "\n",
    "def all_possible_functions(X):\n",
    "    \"\"\"\n",
    "    GOAL: return function\n",
    "    INPUT:\n",
    "    OUTPUT:\n",
    "    \"\"\"\n",
    "    functions = set()\n",
    "\n",
    "    for subset in all_subsets(X):\n",
    "    # loop each element in all_subset\n",
    "        print(f\"subset \",sorted(subset))\n",
    "        def func(x, subset=set(subset)):\n",
    "            # return a function, but not has any result yet\n",
    "            return x in subset\n",
    "        functions.add(func)\n",
    "\n",
    "    return functions\n",
    "\n",
    "# =========================== Test Example 1 ===========================\n",
    "print(\"\\nThe Test 1\")\n",
    "X = {\"green\", \"purple\"}\n",
    "F = all_possible_functions(X)\n",
    "# F has 4 object function inside\n",
    "images = set()\n",
    "for h in F:\n",
    "    images.add(tuple(h(x) for x in X))\n",
    "# call function which inside the 'F', element x in X,to check result\n",
    "for image in sorted(images):\n",
    "    print(image)\n",
    "# print out the result\n",
    "\n",
    "\n",
    "# =========================== Test Example 2 ===========================\n",
    "# print(\"\\nThe Test 2\")\n",
    "# X = {1, 2, 3}\n",
    "# F = all_possible_functions(X)\n",
    "# print(len(F))\n",
    "\n",
    "# =========================== Test Example 3 ==========================\n",
    "# print(\"\\nThe Test 3\")\n",
    "# X = {('red','large'), ('green', 'large'), ('red', 'small'), ('green', 'small')}\n",
    "# F = all_possible_functions(X)\n",
    "\n",
    "# # Let's store the image of each function in F as a tuple\n",
    "# images = set)\n",
    "# for h in F:\n",
    "#     images.add(tuple(h(x) for x in X))\n",
    "\n",
    "# for image in sorted(images):\n",
    "    # print(image)\n",
    "# "
   ]
  },
  {
   "cell_type": "markdown",
   "metadata": {},
   "source": [
    "###  Self-Question 1"
   ]
  },
  {
   "cell_type": "markdown",
   "metadata": {},
   "source": [
    " #### 1. How to get the `all_possible_functions(X)`"
   ]
  },
  {
   "cell_type": "markdown",
   "metadata": {},
   "source": [
    "##### ans"
   ]
  },
  {
   "cell_type": "markdown",
   "metadata": {},
   "source": [
    "\n",
    "``` python \n",
    "def all_subsets(s):\n",
    "    return chain.from_iterable(combinations(s, r) for r in range(len(s) +1)) \n"
   ]
  },
  {
   "cell_type": "markdown",
   "metadata": {},
   "source": [
    "#### 2. How to check the answer"
   ]
  },
  {
   "cell_type": "markdown",
   "metadata": {},
   "source": [
    "##### ans"
   ]
  },
  {
   "cell_type": "code",
   "execution_count": null,
   "metadata": {},
   "outputs": [],
   "source": [
    "for h in F:\n",
    "    images.add(tuple(h(x) for x in X))\n",
    "# Tuple fast, tuple unchangable,"
   ]
  },
  {
   "cell_type": "markdown",
   "metadata": {},
   "source": [
    "#### 3. How to return function as object"
   ]
  },
  {
   "cell_type": "markdown",
   "metadata": {},
   "source": [
    "##### ans"
   ]
  },
  {
   "cell_type": "code",
   "execution_count": null,
   "metadata": {},
   "outputs": [],
   "source": [
    "functions = set()\n",
    "## Create empty container\n",
    "for subset in all_subsets(X):\n",
    "    def func(x, subset=set(subset)):\n",
    "        return x in subset\n",
    "    functions.add(func)\n",
    "    # add function as object in the set container"
   ]
  },
  {
   "cell_type": "markdown",
   "metadata": {},
   "source": [
    "## Question 3"
   ]
  },
  {
   "cell_type": "markdown",
   "metadata": {},
   "source": [
    "Write a function `version_space(H, D)` that takes a set of hypotheses H,  \n",
    "and a training data set D, and returns the version space.\n",
    "### Input\n",
    "* The elements of H are hypotheses.  \n",
    "* Each hypothesis (function) takes a an input object and returns True or False (i.e. a binary classifier). \n",
    "* The elements of D are 2-tuples of the form (x, y) where x is an input object and y is either True or False.\n",
    "\n",
    "### Output\n",
    "* The return value must be a set which will be a subset of (or equal to) H.\n",
    "\n",
    "### Notes\n",
    "* Do not make any assumption about the type of input objects other than that they can be consumed by hypotheses in H.![]"
   ]
  },
  {
   "cell_type": "markdown",
   "metadata": {},
   "source": [
    "### Example "
   ]
  },
  {
   "cell_type": "markdown",
   "metadata": {},
   "source": [
    "![example2](quiz1_graph/q3example.png)\n"
   ]
  },
  {
   "cell_type": "code",
   "execution_count": 20,
   "metadata": {},
   "outputs": [
    {
     "name": "stdout",
     "output_type": "stream",
     "text": [
      "subset  []\n",
      "subset  ['purple']\n",
      "subset  ['green']\n",
      "subset  ['green', 'purple']\n",
      " x is {'green'}  y is {True} Hypothesis is True\n",
      " x is {'green'}  y is {True} Hypothesis is False\n",
      " x is {'green'}  y is {True} Hypothesis is True\n",
      " x is {'green'}  y is {True} Hypothesis is False\n",
      "2\n",
      "OK\n",
      " x is {(False, True)}  y is {False} Hypothesis is False\n",
      " x is {(True, True)}  y is {True} Hypothesis is True\n",
      " x is {(False, True)}  y is {False} Hypothesis is False\n",
      " x is {(True, True)}  y is {True} Hypothesis is True\n",
      " x is {(False, True)}  y is {False} Hypothesis is True\n",
      " x is {(False, True)}  y is {False} Hypothesis is True\n",
      " x is {(False, True)}  y is {False} Hypothesis is True\n",
      " x is {(False, True)}  y is {False} Hypothesis is False\n",
      " x is {(True, True)}  y is {True} Hypothesis is False\n",
      "['h3', 'h5']\n"
     ]
    }
   ],
   "source": [
    "def version_space(H, D):\n",
    "    VS = set()\n",
    "    for hypothesis in H:\n",
    "        consistent = True\n",
    "        for x, y in D:\n",
    "            print(f\" x is\",{x},\" y is\",{y}, \"Hypothesis is\", hypothesis(x))\n",
    "            if hypothesis(x) != y:\n",
    "                consistent = False\n",
    "                break  # No need to check further for this hypothesis\n",
    "        if consistent:\n",
    "            VS.add(hypothesis)\n",
    "    return VS\n",
    "\n",
    "# ======================== my check function ======================================================================\n",
    "def check_fun():\n",
    "    images = set()\n",
    "    for h in F:\n",
    "        images.add(tuple(h(x) for x in X))\n",
    "    for image in sorted(images):\n",
    "        print(image)\n",
    "\n",
    "# ======================== TEST 1 ======================================================================\n",
    "X = {\"green\", \"purple\"} # an input space with two elements\n",
    "D = {(\"green\", True)} # the training data is a subset of X * {True, False}\n",
    "F = all_possible_functions(X)\n",
    "H = F # H must be a subset of (or equal to) F\n",
    "\n",
    "VS = version_space(H, D)\n",
    "\n",
    "print(len(VS))\n",
    "\n",
    "for h in VS:\n",
    "    for x, y in D:\n",
    "        # print(h(x))\n",
    "        # print(y)\n",
    "        if h(x) != y:\n",
    "            print(\"You have a hypothesis in VS that does not agree with the set D!\")\n",
    "            break\n",
    "    else:\n",
    "        continue\n",
    "    break\n",
    "else:\n",
    "    print(\"OK\")  \n",
    "# ==============================================================================================\n",
    "\t\n",
    "D = {\n",
    "    ((False, True), False),\n",
    "    ((True, True), True),\n",
    "}\n",
    "\n",
    "def h1(x): return True\n",
    "def h2(x): return False\n",
    "def h3(x): return x[0] and x[1]\n",
    "def h4(x): return x[0] or x[1]\n",
    "def h5(x): return x[0]\n",
    "def h6(x): return x[1]\n",
    "\n",
    "H = {h1, h2, h3, h4, h5, h6}\n",
    "\n",
    "VS = version_space(H, D)\n",
    "print(sorted(h.__name__ for h in VS))"
   ]
  },
  {
   "cell_type": "markdown",
   "metadata": {},
   "source": [
    "## Question 4"
   ]
  },
  {
   "cell_type": "markdown",
   "metadata": {},
   "source": [
    "![q4](quiz1_graph/q4.png)"
   ]
  },
  {
   "cell_type": "markdown",
   "metadata": {},
   "source": []
  },
  {
   "cell_type": "code",
   "execution_count": 21,
   "metadata": {},
   "outputs": [
    {
     "name": "stdout",
     "output_type": "stream",
     "text": [
      "h2 <= h2 ? True\n",
      "h2 <= h3 ? False\n",
      "h2 <= h6 ? False\n",
      "h3 <= h2 ? False\n",
      "h3 <= h3 ? True\n",
      "h3 <= h6 ? False\n",
      "h6 <= h2 ? True\n",
      "h6 <= h3 ? True\n",
      "h6 <= h6 ? True\n"
     ]
    }
   ],
   "source": [
    "def less_general_or_equal(ha, hb, X):\n",
    "    for x in X:\n",
    "        if ha(x) and not hb(x):  \n",
    "            return False\n",
    "    return True \n",
    "\n",
    "# ======================== TEST 1 ======================================================================\n",
    "X = list(range(1000))\n",
    "\n",
    "def h2(x): return x % 2 == 0\n",
    "def h3(x): return x % 3 == 0\n",
    "def h6(x): return x % 6 == 0\n",
    "\n",
    "H = [h2, h3, h6]\n",
    "\n",
    "for ha in H:\n",
    "    for hb in H:\n",
    "        print(ha.__name__, \"<=\", hb.__name__, \"?\", less_general_or_equal(ha, hb, X))"
   ]
  },
  {
   "cell_type": "markdown",
   "metadata": {},
   "source": [
    "## Question 5"
   ]
  },
  {
   "cell_type": "markdown",
   "metadata": {},
   "source": [
    "![q5](quiz1_graph/q5.png)\n"
   ]
  },
  {
   "cell_type": "markdown",
   "metadata": {},
   "source": [
    "![q5example](quiz1_graph/q5example.png)"
   ]
  },
  {
   "cell_type": "code",
   "execution_count": 23,
   "metadata": {},
   "outputs": [
    {
     "name": "stdout",
     "output_type": "stream",
     "text": [
      "(-2, -2) False\n",
      "(-2, -1) False\n",
      "(-2, 0) False\n",
      "(-2, 1) False\n",
      "(-2, 2) False\n",
      "(-1, -2) False\n",
      "(-1, -1) True\n",
      "(-1, 0) True\n",
      "(-1, 1) True\n",
      "(-1, 2) False\n",
      "(0, -2) False\n",
      "(0, -1) True\n",
      "(0, 0) True\n",
      "(0, 1) True\n",
      "(0, 2) False\n",
      "(1, -2) False\n",
      "(1, -1) True\n",
      "(1, 0) True\n",
      "(1, 1) True\n",
      "(1, 2) False\n",
      "(2, -2) False\n",
      "(2, -1) False\n",
      "(2, 0) False\n",
      "(2, 1) False\n",
      "(2, 2) False\n"
     ]
    },
    {
     "data": {
      "text/plain": [
       "(2, 2)"
      ]
     },
     "execution_count": 23,
     "metadata": {},
     "output_type": "execute_result"
    }
   ],
   "source": [
    "def decode(code):\n",
    "    x1, y1, x2, y2 = code\n",
    "    def hypothesis(point):\n",
    "        x, y = point\n",
    "        return min(x1, x2) <= x <= max(x1, x2) and min(y1, y2) <= y <= max(y1, y2)\n",
    "    return hypothesis\n",
    "\n",
    "# ======================== TEST 1 ======================================================================\n",
    "\t\n",
    "import itertools\n",
    "\n",
    "h = decode((-1, -1, 1, 1))\n",
    "\n",
    "for x in itertools.product(range(-2, 3), repeat=2):\n",
    "    print(x, h(x))\n",
    "x "
   ]
  },
  {
   "cell_type": "markdown",
   "metadata": {},
   "source": [
    "## Question 6"
   ]
  },
  {
   "cell_type": "markdown",
   "metadata": {},
   "source": [
    "![q6](quiz1_graph/q6.png)"
   ]
  },
  {
   "cell_type": "markdown",
   "metadata": {},
   "source": [
    "![q6example](quiz1_graph/q6example.png)"
   ]
  },
  {
   "cell_type": "code",
   "execution_count": 10,
   "metadata": {},
   "outputs": [
    {
     "name": "stdout",
     "output_type": "stream",
     "text": [
      "lge_codes: ('?',) ('?',)\n",
      "zip(code_a, code_b): (('?', '?'),)\n",
      "ha: ? hb: ?\n",
      "2 2\n",
      "True\n",
      "1 1\n",
      "\n",
      "\n",
      "1 1\n",
      "1 1\n",
      "\n",
      "\n",
      "lge_codes: (None, '?') ('?', '?')\n",
      "lge_codes: ('?', None) ('?', '?')\n",
      "lge_codes: (None, '?') ('F', '?')\n",
      "lge_codes: (None, '?') ('?', 'F')\n",
      "3 3\n",
      "2 2\n",
      "lge_codes: (None,) ('blue',)\n",
      "lge_codes: (None,) ('red',)\n",
      "lge_codes: ('?',) ('red',)\n",
      "zip(code_a, code_b): (('?', 'red'),)\n",
      "ha: ? hb: red\n",
      "0 1\n"
     ]
    },
    {
     "ename": "KeyError",
     "evalue": "'pop from an empty set'",
     "output_type": "error",
     "traceback": [
      "\u001b[0;31m---------------------------------------------------------------------------\u001b[0m",
      "\u001b[0;31mKeyError\u001b[0m                                  Traceback (most recent call last)",
      "Cell \u001b[0;32mIn[10], line 191\u001b[0m\n\u001b[1;32m    188\u001b[0m S, G \u001b[39m=\u001b[39m S_trace[\u001b[39m-\u001b[39m\u001b[39m1\u001b[39m], G_trace[\u001b[39m-\u001b[39m\u001b[39m1\u001b[39m]\n\u001b[1;32m    189\u001b[0m \u001b[39mprint\u001b[39m(\u001b[39mlen\u001b[39m(S), \u001b[39mlen\u001b[39m(G))\n\u001b[0;32m--> 191\u001b[0m hs_code, hg_code \u001b[39m=\u001b[39m S\u001b[39m.\u001b[39;49mpop(), G\u001b[39m.\u001b[39mpop()\n\u001b[1;32m    192\u001b[0m \u001b[39mprint\u001b[39m(hs_code \u001b[39m==\u001b[39m hg_code)\n",
      "\u001b[0;31mKeyError\u001b[0m: 'pop from an empty set'"
     ]
    }
   ],
   "source": [
    "\n",
    "def decode(code):\n",
    "#     \"\"\"Takes a code and returns the corresponding hypothesis.\"\"\"\n",
    "    def h(x):\n",
    "        return all(c == '?' or c == xi for c, xi in zip(code,x))\n",
    "    return h\n",
    "        \n",
    "def match(code, x):\n",
    "    \"\"\"Takes a code and returns True if the corresponding hypothesis returns\n",
    "    True (positive) for the given input.\"\"\"\n",
    "    return decode(code)(x)\n",
    "    \n",
    "def lge(code_a, code_b):\n",
    "    print(\"lge_codes:\",code_a, code_b)\n",
    "    if None in code_a:\n",
    "        return True \n",
    "    print(\"zip(code_a, code_b):\",tuple(zip(code_a, code_b)))\n",
    "    for ha, hb in zip(code_a, code_b):\n",
    "        print(\"ha:\", ha, \"hb:\", hb)\n",
    "        if not(ha == hb or (ha != hb and hb == '?')):\n",
    "            return False   \n",
    "    return True \n",
    "# def lge(code_a, code_b):\n",
    "    # \"\"\"Takes two codes and returns True if code_a is less general or equal\n",
    "    # # to code_b.\"\"\"\n",
    "    # if code_a and not code_b:  \n",
    "    #         return False\n",
    "    # return True \n",
    "\n",
    "    # Complete this for the conjunction of constraints. You do not need to\n",
    "    # decode the given codes.\n",
    "    # for a, b in zip(code_a, code_b):\n",
    "    #     if a != '?' and (b == '?' or a == b):\n",
    "    #         continue\n",
    "    #     elif a == '?' and b == '?':\n",
    "    #         continue\n",
    "    #     else:\n",
    "    #         return False\n",
    "    # return True \n",
    "\n",
    "\n",
    "            \n",
    "def initial_S(domains):\n",
    "    \"\"\"Takes a list of domains and returns a set where each element is a\n",
    "    code for the initial members of S.\"\"\"\n",
    "    # return {tuple('None' for _ in domains)}  # Each feature has 'None' indicating no generalization\n",
    "    # return [tuple([min(domain) for domain in domains] + [max(domain) for domain in domains])]\n",
    "    return {tuple(None for _ in range(len(domains)))}\n",
    "    # Return an appropriate set\n",
    "\n",
    "    \n",
    "def initial_G(domains):\n",
    "    \"\"\"Takes a list of domains and returns a set where each element is a\n",
    "    code for the initial members of G.\"\"\"\n",
    "    # return {tuple('?' for _ in domains)}  # '?' indicates any value is acceptable for each feature\n",
    "    # return [tuple(['?' for _ in domains] * 4)]\n",
    "    return {tuple('?' for  _ in range(len(domains)))}\n",
    "    # Return an appropriate set\n",
    "\n",
    "\n",
    "def minimal_generalisations(code, x):\n",
    "    \"\"\"Takes a code (corresponding to a hypothesis) and returns the set of all\n",
    "    codes that are the minimal generalisations of the given code with respect\n",
    "    to the given input x.\"\"\"\n",
    "    generalisations = set()\n",
    "    for i, (c, xi) in enumerate(zip(code, x)):\n",
    "        if c == 'None' or c == xi:\n",
    "            new_code = list(code)\n",
    "            new_code[i] = xi\n",
    "            generalisations.add(tuple(new_code))\n",
    "        elif c == '?':\n",
    "            continue\n",
    "        else:\n",
    "            new_code = list(code)\n",
    "            new_code[i] = '?'\n",
    "            generalisations.add(tuple(new_code))\n",
    "    return generalisations\n",
    "\n",
    "\n",
    "\n",
    "def minimal_specialisations(cc, domains, x):\n",
    "    \"\"\"Takes a code (corresponding to a hypothesis) and returns the set of all\n",
    "    codes that are the minimal specialisations of the given code with respect\n",
    "    to the given input x.\"\"\"\n",
    "    specialisations = set()\n",
    "    for i, (c, xi) in enumerate(zip(cc, x)):\n",
    "        if c == '?':\n",
    "            for v in domains[i]:\n",
    "                if v != xi:\n",
    "                    new_code = list(cc)\n",
    "                    new_code[i] = v\n",
    "                    specialisations.add(tuple(new_code))\n",
    "    return specialisations\n",
    "\n",
    "    # Return an appropriate set\n",
    "\n",
    "def cea_trace(domains, D):\n",
    "    S_trace, G_trace = [], []\n",
    "    S = initial_S(domains)\n",
    "    G = initial_G(domains)\n",
    "    S_trace.append(S.copy())\n",
    "    G_trace.append(G.copy())\n",
    "    \n",
    "    for x, y in D:\n",
    "        if y:  # if positive\n",
    "            G = {g for g in G if match(g, x)}\n",
    "            new_S = set()\n",
    "            for s in S:\n",
    "                if not match(s, x):\n",
    "                    S_generalisations = minimal_generalisations(s, x)\n",
    "                    new_S |= {s_gen for s_gen in S_generalisations if any(lge(s_gen, g) for g in G)}\n",
    "                else:\n",
    "                    new_S.add(s)\n",
    "            S = new_S\n",
    "        else:  # if negative\n",
    "            S = {s for s in S if not match(s, x)}\n",
    "            new_G = set()\n",
    "            for g in G:\n",
    "                if match(g, x):\n",
    "                    G_specialisations = minimal_specialisations(g, domains, x)\n",
    "                    new_G |= {g_spec for g_spec in G_specialisations if any(lge(s, g_spec) for s in S)}\n",
    "                else:\n",
    "                    new_G.add(g)\n",
    "            G = new_G\n",
    "\n",
    "        S_trace.append(S.copy())\n",
    "        G_trace.append(G.copy())\n",
    "\n",
    "    return S_trace, G_trace\n",
    "\n",
    "# ======================== TEST 1 ======================================================================\n",
    "domains = [\n",
    "    {'red', 'blue'}\n",
    "]\n",
    "\n",
    "training_examples = [\n",
    "    (('red',), True)\n",
    "]\n",
    "\n",
    "S_trace, G_trace = cea_trace(domains, training_examples)\n",
    "print(len(S_trace), len(G_trace))\n",
    "print(all(type(x) is set for x in S_trace + G_trace))\n",
    "S, G = S_trace[-1], G_trace[-1]\n",
    "print(len(S), len(G))\n",
    "print('\\n')\n",
    "\n",
    "# ======================== TEST 2 ======================================================================\n",
    "domains = [\n",
    "    {'T', 'F'}\n",
    "]\n",
    "\n",
    "training_examples = []  # no training examples\n",
    "\n",
    "S_trace, G_trace = cea_trace(domains, training_examples)\n",
    "print(len(S_trace), len(G_trace))\n",
    "S, G = S_trace[-1], G_trace[-1]\n",
    "print(len(S), len(G))\n",
    "print('\\n')\n",
    "# ======================== TEST 3 ======================================================================\n",
    "\n",
    "\n",
    "domains = [\n",
    "    ('T', 'F'),\n",
    "    ('T', 'F'),\n",
    "]\n",
    "\n",
    "training_examples = [\n",
    "    (('F', 'F'), True),\n",
    "    (('T', 'T'), False),\n",
    "]\n",
    "\n",
    "S_trace, G_trace = cea_trace(domains, training_examples)\n",
    "print(len(S_trace), len(G_trace))\n",
    "S, G = S_trace[-1], G_trace[-1]\n",
    "print(len(S), len(G))\n",
    "\n",
    "# # ======================== TEST 4 ======================================================================\n",
    "domains = [\n",
    "    {'red', 'green', 'blue'}\n",
    "]\n",
    "\n",
    "training_examples = [\n",
    "    (('green',), False),\n",
    "    (('red',), True),\n",
    "]\n",
    "\n",
    "S_trace, G_trace = cea_trace(domains, training_examples)\n",
    "\n",
    "S, G = S_trace[-1], G_trace[-1]\n",
    "print(len(S), len(G))\n",
    "\n",
    "hs_code, hg_code = S.pop(), G.pop()\n",
    "print(hs_code == hg_code)"
   ]
  },
  {
   "cell_type": "code",
   "execution_count": null,
   "metadata": {},
   "outputs": [],
   "source": []
  },
  {
   "cell_type": "markdown",
   "metadata": {},
   "source": [
    "## Zip"
   ]
  },
  {
   "cell_type": "code",
   "execution_count": 33,
   "metadata": {},
   "outputs": [
    {
     "name": "stdout",
     "output_type": "stream",
     "text": [
      "1 a\n",
      "2 b\n",
      "3 c\n",
      "4 d\n"
     ]
    }
   ],
   "source": [
    "list1 = [1, 2, 3, 4]\n",
    "list2 = ['a', 'b', 'c', 'd']\n",
    "\n",
    "for x, y in zip(list1, list2):\n",
    "    print(x, y)\n"
   ]
  },
  {
   "cell_type": "markdown",
   "metadata": {},
   "source": [
    "## Other Try\n"
   ]
  },
  {
   "cell_type": "code",
   "execution_count": 1,
   "metadata": {},
   "outputs": [
    {
     "ename": "IndentationError",
     "evalue": "expected an indented block after 'if' statement on line 58 (1968059803.py, line 62)",
     "output_type": "error",
     "traceback": [
      "\u001b[0;36m  Cell \u001b[0;32mIn[1], line 62\u001b[0;36m\u001b[0m\n\u001b[0;31m    else: # if negative\u001b[0m\n\u001b[0m    ^\u001b[0m\n\u001b[0;31mIndentationError\u001b[0m\u001b[0;31m:\u001b[0m expected an indented block after 'if' statement on line 58\n"
     ]
    }
   ],
   "source": [
    "def decode(code):\n",
    "    \"\"\"Takes a code and returns the corresponding hypothesis.\"\"\"\n",
    "    def h(x):\n",
    "        raise NotImplementedError # Remove this line\n",
    "        # Complete this function for the conjunction of constraints\n",
    "    return h\n",
    "        \n",
    "def match(code, x):\n",
    "    \"\"\"Takes a code and returns True if the corresponding hypothesis returns\n",
    "    True (positive) for the given input.\"\"\"\n",
    "    return decode(code)(x)\n",
    "    \n",
    "def lge(code_a, code_b):\n",
    "    \"\"\"Takes two codes and returns True if code_a is less general or equal\n",
    "    to code_b.\"\"\"\n",
    "    \n",
    "    # Complete this for the conjunction of constraints. You do not need to\n",
    "    # decode the given codes.\n",
    "\n",
    "            \n",
    "def initial_S(domains):\n",
    "    return {tuple(None for _ in range(len(domains)))}\n",
    "\n",
    "def initial_G(domains):\n",
    "    return {tuple('?' for _ in range(len(domains)))}\n",
    "\n",
    "    \n",
    "    # Return an appropriate set\n",
    "\n",
    "\n",
    "def minimal_generalisations(code, x):\n",
    "    \"\"\"Takes a code (corresponding to a hypothesis) and returns the set of all\n",
    "    codes that are the minimal generalisations of the given code with respect\n",
    "    to the given input x.\"\"\"\n",
    "    \n",
    "    # Return an appropriate set\n",
    "\n",
    "\n",
    "def minimal_specialisations(cc, domains, x):\n",
    "    \"\"\"Takes a code (corresponding to a hypothesis) and returns the set of all\n",
    "    codes that are the minimal specialisations of the given code with respect\n",
    "    to the given input x.\"\"\"\n",
    "    \n",
    "    # Return an appropriate set\n",
    "\n",
    "\n",
    "def cea_trace(domains, D):\n",
    "    S_trace, G_trace = [], []\n",
    "    S = initial_S(domains)\n",
    "    G = initial_G(domains)\n",
    "    # Append S and G (or their copy) to corresponding trace list\n",
    "    \n",
    "    # for x, y in D:\n",
    "    #     if y: # if positive\n",
    "            \n",
    "    #         # Complete\n",
    "            \n",
    "    #     else: # if negative\n",
    "            \n",
    "    #         # Complete\n",
    "\n",
    "    #     # Append S and G (or their copy) to corresponding trace list\n",
    "\n",
    "    # return S_trace, G_trace\n"
   ]
  },
  {
   "cell_type": "code",
   "execution_count": null,
   "metadata": {},
   "outputs": [],
   "source": [
    "\n",
    "# ======================== TEST 1 ======================================================================\n",
    "domains = [\n",
    "    {'red', 'blue'}\n",
    "]\n",
    "\n",
    "training_examples = [\n",
    "    (('red',), True)\n",
    "]\n",
    "\n",
    "S_trace, G_trace = cea_trace(domains, training_examples)\n",
    "print(len(S_trace), len(G_trace))\n",
    "print(all(type(x) is set for x in S_trace + G_trace))\n",
    "S, G = S_trace[-1], G_trace[-1]\n",
    "print(len(S), len(G))\n",
    "print('\\n')\n",
    "\n",
    "# ======================== TEST 2 ======================================================================\n",
    "# domains = [\n",
    "#     {'T', 'F'}\n",
    "# ]\n",
    "\n",
    "# training_examples = []  # no training examples\n",
    "\n",
    "# S_trace, G_trace = cea_trace(domains, training_examples)\n",
    "# print(len(S_trace), len(G_trace))\n",
    "# S, G = S_trace[-1], G_trace[-1]\n",
    "# print(len(S), len(G))\n",
    "# print('\\n')\n",
    "# # ======================== TEST 3 ======================================================================\n",
    "\n",
    "\n",
    "# domains = [\n",
    "#     ('T', 'F'),\n",
    "#     ('T', 'F'),\n",
    "# ]\n",
    "\n",
    "# training_examples = [\n",
    "#     (('F', 'F'), True),\n",
    "#     (('T', 'T'), False),\n",
    "# ]\n",
    "\n",
    "# S_trace, G_trace = cea_trace(domains, training_examples)\n",
    "# print(len(S_trace), len(G_trace))\n",
    "# S, G = S_trace[-1], G_trace[-1]\n",
    "# print(len(S), len(G))"
   ]
  },
  {
   "cell_type": "code",
   "execution_count": null,
   "metadata": {},
   "outputs": [],
   "source": []
  }
 ],
 "metadata": {
  "kernelspec": {
   "display_name": "Python 3 (ipykernel)",
   "language": "python",
   "name": "python3"
  },
  "language_info": {
   "codemirror_mode": {
    "name": "ipython",
    "version": 3
   },
   "file_extension": ".py",
   "mimetype": "text/x-python",
   "name": "python",
   "nbconvert_exporter": "python",
   "pygments_lexer": "ipython3",
   "version": "3.12.1"
  },
  "vscode": {
   "interpreter": {
    "hash": "49a2be796fb9d467b4a32eeffd280e817abf000e884f8f05778a9b063df0518a"
   }
  }
 },
 "nbformat": 4,
 "nbformat_minor": 4
}
