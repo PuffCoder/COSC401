{
 "cells": [
  {
   "cell_type": "markdown",
   "metadata": {},
   "source": [
    "# Quiz 1"
   ]
  },
  {
   "cell_type": "markdown",
   "metadata": {},
   "source": [
    "## Question 1\n"
   ]
  },
  {
   "cell_type": "markdown",
   "metadata": {},
   "source": [
    "We use $X$ to refer to the input space; that is, the set of all possible input objects.  \n",
    "A common way of representing objects i using the ` attribute-value system.`  \n",
    "In this system each input object (or point) is represented as a tuple of values(aka a feature vector). \n",
    "\n",
    "As an example, in a problem where the input space has 2 dimensions and the atributes are $color$ and $size$ with domains `{blue, green, yellow}`   \n",
    "and ` {small, large}`, the input space has 6 objects (aks points or elements). For instance, one of these objects i `(green,small)`. \n",
    "\n",
    "Write a function `input_space(domains)` that takes a list of mains of attributes and returns the collection of all objects in the input space.\n",
    "\n",
    "### Input \n",
    "* The list domains will be non-empty.\n",
    "* The length of the list is the dimensionality of the input space.\n",
    "* The i-th element of `domains` is a set (collection) of values that can be taken by the i-th attribute.\n",
    "* Your program will be tested with small domains.\n",
    "\n",
    "### Output\n",
    "The function `input_space(domains) ` must retunr a collection (set,list, ...) of tuples.  \n",
    "The order of the tuples in the collectino is not important.  \n",
    "The order of values in each tuple is important; the i-th value should correspond to the i-th attrubute and its value shold be from the i-th domain.\n",
    "\n",
    "### Notes\n",
    "* You have the option of using one of Python's build-in libraries and answer this question in a few lines of code.\n",
    "* The test code sometimes use capital letters for some variables.  \n",
    "This is only to make the notation similar to that used in the lecture notes.\n",
    "\n"
   ]
  },
  {
   "cell_type": "markdown",
   "metadata": {},
   "source": [
    "![ex1](quiz1_graph/q1example.png)"
   ]
  },
  {
   "cell_type": "code",
   "execution_count": 3,
   "metadata": {},
   "outputs": [
    {
     "name": "stdout",
     "output_type": "stream",
     "text": [
      "\n",
      " The Test 1 result\n",
      "(0, False)\n",
      "(0, True)\n",
      "(1, False)\n",
      "(1, True)\n",
      "(2, False)\n",
      "(2, True)\n",
      "\n",
      " The Test 2 result\n",
      "('blue', -1, 'active')\n",
      "('blue', -1, 'inactive')\n",
      "('blue', 1, 'active')\n",
      "('blue', 1, 'inactive')\n",
      "('green', -1, 'active')\n",
      "('green', -1, 'inactive')\n",
      "('green', 1, 'active')\n",
      "('green', 1, 'inactive')\n",
      "('red', -1, 'active')\n",
      "('red', -1, 'inactive')\n",
      "('red', 1, 'active')\n",
      "('red', 1, 'inactive')\n"
     ]
    }
   ],
   "source": [
    "\n",
    "from itertools import product\n",
    "\n",
    "def input_space(domains):\n",
    "    \"\"\"\n",
    "    generate all the possible subset via\n",
    "    \"\"\"\n",
    "    combinations = list(product(*domains))\n",
    "    return combinations\n",
    "\n",
    "# =========================== test 1 =============================\n",
    "print(\"\\n The Test 1 result\")\n",
    "domains = [\n",
    "{0, 1, 2},\n",
    "{True, False},\n",
    "]\n",
    "\n",
    "for element in sorted(input_space(domains)):\n",
    "    print(element)\n",
    "\n",
    "# =========================== test 2 =============================\n",
    "print(\"\\n The Test 2 result\")\n",
    "domains = [\n",
    "    {'red', 'green', 'blue'},\n",
    "    {1, -1},\n",
    "    {'active', 'inactive'}\n",
    "]\n",
    "for element in sorted(input_space(domains)):\n",
    "    print(element)"
   ]
  },
  {
   "cell_type": "markdown",
   "metadata": {},
   "source": []
  },
  {
   "cell_type": "markdown",
   "metadata": {},
   "source": [
    "## Question 2\n"
   ]
  },
  {
   "cell_type": "markdown",
   "metadata": {},
   "source": [
    "We use $F$ to refer to the set of all possible functions (or predicates or hypotheses or binary classifiers).   \n",
    "Note that $F$ is independent of representation of hypotheses; it always contains all possible functions.  \n",
    "Write a function `all_possible_functions(X)` that takes the entire input space (for some problem) and returns a set of functions that is $F$\n",
    "\n",
    "\n",
    "### Notes\n",
    "* Each member of $F$ must be a function whose domain is the input space and returns True or False.\n",
    "    * $F$ 是一个包含 func 的 set；func 返回 T/F，可以理解成为一个 perceptron.\n",
    "* In Python, functions are hashable and therefore can be added to sets.\n",
    "* Do not make any assumption about the type of elements in X other than that they are hashable.\n",
    "* Your answer will be tested only with small input spaces.\n",
    "* Python’s itertools module may have some useful tools for you.\n",
    "* There are different ways of implementing your answer. In most cases, you will need to create functions in a loop.   \n",
    "These functions probably need to access some non-local variables (in their closure).  \n",
    "If the non-local variable changes after a function is created, the function is still affected.   \n",
    "There are different techniques to avoid this problem. Do your own research on how to create functions in a loop.\n",
    "* In some test cases you may see that the elements of the input space (X) are simple objects (e.g. a string) instead of a tuple (an element of the cartesian product of the domains). This is to a) have simpler more readable test cases; and b) emphasise that different representations can be used to describe input objects.\n",
    "    * Input 为对象 非具体的字符串，数组，。。。"
   ]
  },
  {
   "cell_type": "markdown",
   "metadata": {},
   "source": [
    "![example2](quiz1_graph/q2example.png)"
   ]
  },
  {
   "cell_type": "markdown",
   "metadata": {},
   "source": [
    "### Code "
   ]
  },
  {
   "cell_type": "code",
   "execution_count": 4,
   "metadata": {},
   "outputs": [
    {
     "name": "stdout",
     "output_type": "stream",
     "text": [
      "\n",
      "The Test 1\n",
      "(False, False)\n",
      "(False, True)\n",
      "(True, False)\n",
      "(True, True)\n"
     ]
    }
   ],
   "source": [
    "\n",
    "from itertools import chain, combinations\n",
    "\n",
    "def all_subsets(s):\n",
    "    \"\"\" Generate all possible subsets \"\"\"\n",
    "    return chain.from_iterable(combinations(s, r) for r in range(len(s)+1))\n",
    "\n",
    "def all_possible_functions(X):\n",
    "    \"\"\"\n",
    "    GOAL: return function\n",
    "    INPUT:\n",
    "    OUTPUT:\n",
    "    \"\"\"\n",
    "    functions = set()\n",
    "\n",
    "    for subset in all_subsets(X):\n",
    "        def func(x, subset=set(subset)):\n",
    "            return x in subset\n",
    "        functions.add(func)\n",
    "\n",
    "    return functions\n",
    "\n",
    "# =========================== Test Example 1 ===========================\n",
    "print(\"\\nThe Test 1\")\n",
    "X = {\"green\", \"purple\"}\n",
    "F = all_possible_functions(X)\n",
    "images = set()\n",
    "for h in F:\n",
    "    images.add(tuple(h(x) for x in X))\n",
    "for image in sorted(images):\n",
    "    print(image)\n",
    "\n",
    "\n",
    "# =========================== Test Example 2 ===========================\n",
    "# print(\"\\nThe Test 2\")\n",
    "# X = {1, 2, 3}\n",
    "# F = all_possible_functions(X)\n",
    "# print(len(F))\n",
    "\n",
    "# =========================== Test Example 3 ==========================\n",
    "# print(\"\\nThe Test 3\")\n",
    "# X = {('red','large'), ('green', 'large'), ('red', 'small'), ('green', 'small')}\n",
    "# F = all_possible_functions(X)\n",
    "\n",
    "# # Let's store the image of each function in F as a tuple\n",
    "# images = set()\n",
    "# for h in F:\n",
    "#     images.add(tuple(h(x) for x in X))\n",
    "\n",
    "# for image in sorted(images):\n",
    "    # print(image)\n",
    "# "
   ]
  },
  {
   "cell_type": "markdown",
   "metadata": {},
   "source": [
    "###  Self-Question 1"
   ]
  },
  {
   "cell_type": "markdown",
   "metadata": {},
   "source": [
    "1. How to get the `all_possible_functions(X)`"
   ]
  },
  {
   "cell_type": "markdown",
   "metadata": {},
   "source": [
    "``` python \n",
    "def all_subsets(s):\n",
    "    return chain.from_iterable(combinations(s, r) for r in range(len(s) +1)) \n"
   ]
  },
  {
   "cell_type": "markdown",
   "metadata": {},
   "source": [
    "2. How to check the answer"
   ]
  },
  {
   "cell_type": "code",
   "execution_count": 26,
   "metadata": {},
   "outputs": [
    {
     "name": "stdout",
     "output_type": "stream",
     "text": [
      "func1\n",
      "func1\n",
      "func1\n",
      "func1\n"
     ]
    }
   ],
   "source": [
    "def all_subsets(s):\n",
    "    return chain.from_iterable(combinations(s, r) for r in range(len(s) +1))\n",
    "    \n",
    "X1 = {\"x1\",\"x2\"}\n",
    "F1_all = all_subsets(X1)\n",
    "images1 = set()\n",
    "\n",
    "functions1 = set()\n",
    "for sub1 in F1_all:\n",
    "    def func1(x,subset=set(sub1)):\n",
    "        return x in subset\n",
    "    functions1.add(func1)\n",
    "\n",
    "# print(type(functions1[0]))\n",
    "\n",
    "for obj in functions1:\n",
    "    print(obj.__name__)\n",
    "\n",
    "    # images1.add(tuple(h1(x) for x in X1))\n",
    "# for i in all_subset(data):\n",
    "#     def test(x, a=set(i)):\n",
    "#         return x in i"
   ]
  },
  {
   "cell_type": "code",
   "execution_count": 18,
   "metadata": {},
   "outputs": [
    {
     "name": "stdout",
     "output_type": "stream",
     "text": [
      "True\n"
     ]
    }
   ],
   "source": [
    "sub1 = {1,2,3,4,5}\n",
    "res = func1(2)\n",
    "other_set = {3,4,5,6,7}\n",
    "res = func1(3,other_set)\n",
    "print(res)"
   ]
  },
  {
   "cell_type": "markdown",
   "metadata": {},
   "source": []
  },
  {
   "cell_type": "markdown",
   "metadata": {},
   "source": []
  },
  {
   "cell_type": "markdown",
   "metadata": {},
   "source": []
  },
  {
   "cell_type": "markdown",
   "metadata": {},
   "source": []
  },
  {
   "cell_type": "code",
   "execution_count": null,
   "metadata": {},
   "outputs": [],
   "source": []
  }
 ],
 "metadata": {
  "kernelspec": {
   "display_name": "Python 3 (ipykernel)",
   "language": "python",
   "name": "python3"
  },
  "language_info": {
   "codemirror_mode": {
    "name": "ipython",
    "version": 3
   },
   "file_extension": ".py",
   "mimetype": "text/x-python",
   "name": "python",
   "nbconvert_exporter": "python",
   "pygments_lexer": "ipython3",
   "version": "3.9.6"
  },
  "vscode": {
   "interpreter": {
    "hash": "49a2be796fb9d467b4a32eeffd280e817abf000e884f8f05778a9b063df0518a"
   }
  }
 },
 "nbformat": 4,
 "nbformat_minor": 4
}
