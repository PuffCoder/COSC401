{
 "cells": [
  {
   "cell_type": "markdown",
   "metadata": {},
   "source": [
    "# Supervised Learning"
   ]
  },
  {
   "cell_type": "markdown",
   "metadata": {},
   "source": [
    "## Concept\n",
    "\n",
    "* Supervied learning is a type of machines learning where a model is trained on a labeled dataset.\n",
    "* Each example in the training dataset is paired with the correct output.\n",
    "* Map inputs to outputs based on this training data.\n",
    "\n",
    "## Goal\n",
    "* Make predications or decisions without human intervention by generalizing from the training data to unseen situations.\n",
    "\n",
    "## Common application\n",
    "* SL is commonly used in applications where hitroical data predicts likely future events, such as\n",
    "    * image recongnition\n",
    "    * forecasting\n",
    "    * fraud detection, etc"
   ]
  },
  {
   "cell_type": "markdown",
   "metadata": {},
   "source": [
    "## 1.1 Common elements"
   ]
  },
  {
   "cell_type": "markdown",
   "metadata": {},
   "source": []
  }
 ],
 "metadata": {
  "kernelspec": {
   "display_name": "Python 3.12.1 64-bit ('3.12.1')",
   "language": "python",
   "name": "python3"
  },
  "language_info": {
   "name": "python",
   "version": "3.12.1"
  },
  "orig_nbformat": 4,
  "vscode": {
   "interpreter": {
    "hash": "49a2be796fb9d467b4a32eeffd280e817abf000e884f8f05778a9b063df0518a"
   }
  }
 },
 "nbformat": 4,
 "nbformat_minor": 2
}
