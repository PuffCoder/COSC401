{
 "cells": [
  {
   "cell_type": "markdown",
   "metadata": {},
   "source": [
    "# 1. Supervised Learning"
   ]
  },
  {
   "cell_type": "markdown",
   "metadata": {},
   "source": [
    "## Concept\n",
    "\n",
    "* Supervied learning is a type of machines learning where a model is trained on a labeled dataset.\n",
    "* Each example in the training dataset is paired with the correct output.\n",
    "* Map inputs to outputs based on this training data.\n",
    "\n",
    "## Goal\n",
    "* Make predications or decisions without human intervention by generalizing from the training data to unseen situations.\n",
    "\n",
    "## Common application\n",
    "* SL is commonly used in applications where hitroical data predicts likely future events, such as\n",
    "    * image recongnition\n",
    "    * forecasting\n",
    "    * fraud detection, etc"
   ]
  },
  {
   "cell_type": "markdown",
   "metadata": {},
   "source": [
    "### 1.1 Common elements"
   ]
  },
  {
   "cell_type": "markdown",
   "metadata": {},
   "source": [
    "![ce1](Lecture1_graph/CommonElement1.png)\n",
    "![ce2](Lecture1_graph/CommonElement2.png)"
   ]
  },
  {
   "cell_type": "markdown",
   "metadata": {},
   "source": [
    "### 1.2 Binary classification\n",
    "\n",
    "![bc](Lecture1_graph/Binary_classification.png)"
   ]
  },
  {
   "cell_type": "markdown",
   "metadata": {},
   "source": [
    "### 2. Classifiers as predicates"
   ]
  },
  {
   "cell_type": "markdown",
   "metadata": {},
   "source": [
    "![cap](Lecture1_graph/ClassifiersAsPredicates.png)\n"
   ]
  },
  {
   "cell_type": "markdown",
   "metadata": {},
   "source": [
    "## Question 1. What is the cardinality (size) of $F$ if $X$ is finite?"
   ]
  },
  {
   "cell_type": "markdown",
   "metadata": {},
   "source": [
    "### Question 1 answer"
   ]
  },
  {
   "cell_type": "markdown",
   "metadata": {},
   "source": [
    "$$ 2^{x} $$"
   ]
  },
  {
   "cell_type": "markdown",
   "metadata": {},
   "source": [
    "# 2.1 Partial order of predicates\n"
   ]
  },
  {
   "cell_type": "markdown",
   "metadata": {},
   "source": [
    "![poop](Lecture1_graph/PartialOrderOfPredicates.png)\n"
   ]
  },
  {
   "cell_type": "markdown",
   "metadata": {},
   "source": [
    "#### 3  preperties"
   ]
  },
  {
   "cell_type": "markdown",
   "metadata": {},
   "source": [
    "\n",
    "* reflexive   \n",
    "![reflexive](Lecture1_graph/reflexive.png)\n",
    "\n",
    "* anti-symmetric  \n",
    "![anti-symmetric](lecture1_graph/anti-symmetric.png)\n",
    "\n",
    "* transitive    \n",
    "![transitive](lecture1_graph/transitive.png)\n",
    "\n"
   ]
  },
  {
   "cell_type": "markdown",
   "metadata": {},
   "source": [
    "## Question 2: \n",
    "Suppose $ X = \\{x_1,x_2,x_3 \\}.$     \n",
    "Draw the lattice of $(F, \\leq_{\\text{g}}).$   \n",
    "Refer to the elements of $F$ by their support sets."
   ]
  },
  {
   "cell_type": "markdown",
   "metadata": {},
   "source": [
    "## Ans"
   ]
  },
  {
   "cell_type": "markdown",
   "metadata": {},
   "source": [
    "\n",
    "![q2ans](lecture1_graph/q2ans.png)"
   ]
  },
  {
   "cell_type": "markdown",
   "metadata": {},
   "source": [
    "### Code Answer 2"
   ]
  },
  {
   "cell_type": "code",
   "execution_count": 16,
   "metadata": {},
   "outputs": [
    {
     "name": "stdout",
     "output_type": "stream",
     "text": [
      "()\n",
      "('x1',)\n",
      "('x2',)\n",
      "('x3',)\n",
      "('x1', 'x2')\n",
      "('x1', 'x3')\n",
      "('x2', 'x3')\n",
      "('x1', 'x2', 'x3')\n",
      "\n",
      " There are a total of 8 possible subsets of the set X = x1,x2,x3\n",
      "\n"
     ]
    }
   ],
   "source": [
    "\n",
    "from itertools import chain, combinations \n",
    "\n",
    "def input_space(element):\n",
    "    return chain.from_iterable(combinations(element,dimension) for dimension in range(len(element) + 1))\n",
    "    \n",
    "domains = [\n",
    "    # {'x1'},{'x2'},{'x3'}]\n",
    "    \"x1\",\"x2\",\"x3\"]\n",
    "counter = 0\n",
    "\n",
    "for i in (input_space(domains)):\n",
    "    counter += 1\n",
    "    print(i) \n",
    "    \n",
    "print(f\"\\n There are a total of {counter} possible subsets of the set X = x1,x2,x3\\n\")\n"
   ]
  },
  {
   "cell_type": "markdown",
   "metadata": {},
   "source": [
    "### 2.2 Consistency"
   ]
  },
  {
   "cell_type": "markdown",
   "metadata": {},
   "source": [
    "![consistency](lecture1_graph/Consistency.png)"
   ]
  },
  {
   "cell_type": "markdown",
   "metadata": {},
   "source": [
    "## Question 3\n",
    "How many functions $F$ are consistent with $D$ ?   \n",
    "One (inefficient) way of learning is by exhaustively searching $H$ to find a consistent hypothesis."
   ]
  },
  {
   "cell_type": "markdown",
   "metadata": {},
   "source": [
    "### Question 3 answer"
   ]
  },
  {
   "cell_type": "markdown",
   "metadata": {},
   "source": [
    "## <font color=orange>   what does this question asking for ?? </font> "
   ]
  },
  {
   "cell_type": "markdown",
   "metadata": {},
   "source": [
    "$$ 2^{|X| - |D|}$$"
   ]
  },
  {
   "cell_type": "markdown",
   "metadata": {},
   "source": [
    "![q3ans](lecture1_graph/q3ans.png)"
   ]
  },
  {
   "cell_type": "markdown",
   "metadata": {},
   "source": []
  },
  {
   "cell_type": "markdown",
   "metadata": {},
   "source": [
    "# 3 Representation"
   ]
  },
  {
   "cell_type": "markdown",
   "metadata": {},
   "source": [
    "![rp1](lecture1_graph/Repersentation1.png)\n",
    "![rp1](lecture1_graph/Repersentation2.png)"
   ]
  },
  {
   "cell_type": "markdown",
   "metadata": {},
   "source": [
    "## Question 4\n",
    "* $H$ is the set of perceptrons over $ \\mathbb{R}^d $    \n",
    "* $H$ is the set of naive Bayes networks where the objects are describted by $d$ Boolean input variables and the class label is binary."
   ]
  },
  {
   "cell_type": "markdown",
   "metadata": {},
   "source": [
    "$$ \\overrightarrow{w} \\cdot \\overrightarrow{x} = 0 $$\n",
    "$$ R = \\mathbb{R}^{|d|+1} $$\n",
    "$$ R = [ 0,1] ^{|2d|+1} $$"
   ]
  },
  {
   "cell_type": "markdown",
   "metadata": {},
   "source": [
    "## <font color=orange>   What is Bayes Network ? </font> "
   ]
  },
  {
   "cell_type": "markdown",
   "metadata": {},
   "source": [
    "当前理解： 因为\n"
   ]
  },
  {
   "cell_type": "markdown",
   "metadata": {},
   "source": [
    "# The Version space "
   ]
  },
  {
   "cell_type": "markdown",
   "metadata": {},
   "source": [
    "![vs](lecture1_graph/VersionSpace.png)"
   ]
  },
  {
   "cell_type": "markdown",
   "metadata": {},
   "source": []
  },
  {
   "cell_type": "markdown",
   "metadata": {},
   "source": [
    "## 4.1 Specifying VS with its boundaries"
   ]
  },
  {
   "cell_type": "markdown",
   "metadata": {},
   "source": [
    "![sVSboundaries](lecture1_graph/S_VS_boundaries.png)"
   ]
  },
  {
   "cell_type": "markdown",
   "metadata": {},
   "source": [
    "## Example"
   ]
  },
  {
   "cell_type": "markdown",
   "metadata": {},
   "source": [
    "Consider a problem where $ X = \\mathbb{R}^2 $ and $D$ represents a collection of points,  \n",
    "each labeled either positive (denoted by +) or negative (denoted by -),  \n",
    "as illustrated in Figure 1. \n",
    "\n",
    "The representation space, denoted as $R$, is given by $\\mathbb{R}^4$,  \n",
    "where each element consists of two pairs of coordinates in $\\mathbb{R}^2$.  \n",
    "These paires represent the opposing corners (connected by a diagonal) of a rectangle.   \n",
    "\n",
    "Let $H$ be the set comprising all possible rectangles within $\\mathbb{R}^2$.   \n",
    "Under a given hypothesis (specified by a rectangle), all points located inside this rectangle are predicted to be positive,   \n",
    "whereas points outside the rectangle are predicted to be negative."
   ]
  },
  {
   "cell_type": "markdown",
   "metadata": {},
   "source": [
    "![fig1](lecture1_graph/figure1.png)"
   ]
  },
  {
   "cell_type": "markdown",
   "metadata": {},
   "source": [
    "## 4.2 Candidate Elimination Algorithm (CEA)\n"
   ]
  },
  {
   "cell_type": "markdown",
   "metadata": {},
   "source": [
    "The idea is incrementally update $S$ and $G$ instead of generating $VS$ by filtering through $H$"
   ]
  },
  {
   "cell_type": "markdown",
   "metadata": {},
   "source": [
    "```code \n",
    "Initialize G to the set of most-general hypotheses in H\n",
    "Initialize S to the set of most-specific hypotheses in H\n",
    "For each training example, d, do:\n",
    "    Remove from G hypotheses that do not match d\n",
    "    For each hypothesis s in S that does not match d\n",
    "      Remove s from S\n",
    "      Add to S all minimal generalizations, h, of s such that:\n",
    "        1) h matches d\n",
    "        2) some member of G is more general or equal to h\n",
    "      Remove from S any h that is more general than another hypothesis in S \n",
    "    If d is a negative example then:\n",
    "      Remove form S hypotheses that match d \n",
    "      For each hypothesis g in G that matches d \n",
    "        Remove g from G \n",
    "        Add to G all minimal specializations, h, of g such that:\n",
    "        1) h does not matches d\n",
    "        2) some member of S is less general or equal to h\n",
    "      Remove form G any h that is more specific than another hypothesis in G\n",
    "```\n",
    "\n",
    "\n"
   ]
  },
  {
   "cell_type": "markdown",
   "metadata": {},
   "source": []
  }
 ],
 "metadata": {
  "kernelspec": {
   "display_name": "Python 3.12.1 64-bit ('3.12.1')",
   "language": "python",
   "name": "python3"
  },
  "language_info": {
   "codemirror_mode": {
    "name": "ipython",
    "version": 3
   },
   "file_extension": ".py",
   "mimetype": "text/x-python",
   "name": "python",
   "nbconvert_exporter": "python",
   "pygments_lexer": "ipython3",
   "version": "3.12.1"
  },
  "orig_nbformat": 4,
  "vscode": {
   "interpreter": {
    "hash": "49a2be796fb9d467b4a32eeffd280e817abf000e884f8f05778a9b063df0518a"
   }
  }
 },
 "nbformat": 4,
 "nbformat_minor": 2
}
