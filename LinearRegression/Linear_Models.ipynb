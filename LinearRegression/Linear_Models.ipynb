{
 "cells": [
  {
   "cell_type": "markdown",
   "metadata": {},
   "source": [
    "# Linear Model"
   ]
  },
  {
   "cell_type": "markdown",
   "metadata": {},
   "source": [
    "# Quiz 1"
   ]
  },
  {
   "cell_type": "markdown",
   "metadata": {},
   "source": [
    "## Requirement:\n",
    "1. `def linear_regression_1d`\n",
    "   * Input: \n",
    "   * Return: (m,c) \n",
    "     * m: the slope of the line of least squares fit\n",
    "     * c: the intercept of the line  of least squares fit\n"
   ]
  },
  {
   "cell_type": "code",
   "execution_count": 26,
   "metadata": {},
   "outputs": [
    {
     "name": "stdout",
     "output_type": "stream",
     "text": [
      "(3.0, 1.0)\n"
     ]
    }
   ],
   "source": [
    "import numpy as np\n",
    "\n",
    "def linear_regression_1d(data):\n",
    "    n = len(data) \n",
    "    X = [] ; Y = []\n",
    "    for i in range(n):\n",
    "        X.append( np.array(data[i][0]))\n",
    "        Y.append( np.array(data[i][1]))\n",
    "    m = (n * np.dot(X,Y) - sum(X)*sum(Y)) / (n*np.dot(X,X) - sum(X)*sum(X))\n",
    "    c = (sum(Y) - m * sum(X)) / n\n",
    "    return m,c\n",
    "    \n",
    "\n",
    "data = [(1, 4), (2, 7), (3, 10)]\n",
    "length = linear_regression_1d(data)\n",
    "print(length)"
   ]
  },
  {
   "cell_type": "code",
   "execution_count": 1,
   "metadata": {},
   "outputs": [],
   "source": [
    "import numpy as np\n",
    "def linear_regression_1d2(data):\n",
    "    n = len(data) \n",
    "    X,Y = zip(*data)\n",
    "    sum_x = sum(X); sum_y = sum(Y)\n",
    "    sum_xx = sum(i**2 for i in X);\n",
    "    sum_xy = sum(X[i] * Y[i] for i in range(n))\n",
    "\n",
    "    m = (n * sum_xy - sum_x* sum_y) / (n * sum_xx - sum_x**2)\n",
    "    c = (sum_y - m * sum_x) / n\n",
    "    return m,c"
   ]
  },
  {
   "cell_type": "markdown",
   "metadata": {},
   "source": []
  },
  {
   "cell_type": "markdown",
   "metadata": {},
   "source": [
    "### Test Case\n",
    "* Expect result:    \n",
    "3.0 1.0    \n",
    "13.0"
   ]
  },
  {
   "cell_type": "code",
   "execution_count": 2,
   "metadata": {},
   "outputs": [
    {
     "name": "stdout",
     "output_type": "stream",
     "text": [
      "3.0 1.0\n",
      "13.0\n"
     ]
    }
   ],
   "source": [
    "data = [(1, 4), (2, 7), (3, 10)]\n",
    "m, c = linear_regression_1d2(data)\n",
    "print(m, c)\n",
    "print(4 * m + c)"
   ]
  },
  {
   "cell_type": "markdown",
   "metadata": {},
   "source": [
    "# Quiz 2"
   ]
  },
  {
   "cell_type": "markdown",
   "metadata": {},
   "source": [
    "## Requirements: \n",
    "1. `def linear_regression(xs,ys)`\n",
    "   * Input: 2 np.array\n",
    "   * xs: matrix (nxd)\n",
    "   * ys: one-dimensional array (n)\n"
   ]
  },
  {
   "cell_type": "code",
   "execution_count": 27,
   "metadata": {},
   "outputs": [
    {
     "name": "stdout",
     "output_type": "stream",
     "text": [
      "[1. 2.]\n"
     ]
    }
   ],
   "source": [
    "def linear_regression(xs,ys):\n",
    "    \n",
    "    A = np.c_[np.ones((xs.shape[0],1)),xs]\n",
    "    Inv_xs = np.linalg.inv(A.T @ A)\n",
    "    theta = Inv_xs @ A.T @ ys\n",
    "    return theta\n",
    "\n",
    "xs = np.arange(5).reshape((-1, 1))\n",
    "# print(xs)\n",
    "ys = np.arange(1, 11, 2)\n",
    "print(linear_regression(xs, ys))\n"
   ]
  },
  {
   "cell_type": "markdown",
   "metadata": {},
   "source": [
    "## Test Case 1\n",
    "* Expect   \n",
    "`[1. 2.]`"
   ]
  },
  {
   "cell_type": "code",
   "execution_count": 4,
   "metadata": {},
   "outputs": [
    {
     "name": "stdout",
     "output_type": "stream",
     "text": [
      "[[0]\n",
      " [1]\n",
      " [2]\n",
      " [3]\n",
      " [4]]\n",
      "[1 3 5 7 9]\n"
     ]
    }
   ],
   "source": [
    "import numpy as np\n",
    "\n",
    "xs = np.arange(5).reshape((-1, 1))\n",
    "print(xs)\n",
    "ys = np.arange(1, 11, 2)\n",
    "print(ys)\n",
    "# print(linear_regression(xs, ys))"
   ]
  },
  {
   "cell_type": "markdown",
   "metadata": {},
   "source": [
    "## Test Case 2\n",
    "* Expect   \n",
    "`[-1. 2. 1.]`"
   ]
  },
  {
   "cell_type": "code",
   "execution_count": 28,
   "metadata": {},
   "outputs": [
    {
     "name": "stdout",
     "output_type": "stream",
     "text": [
      "[-1.  2.  1.]\n"
     ]
    }
   ],
   "source": [
    "import numpy as np\n",
    "\n",
    "xs = np.array([[1, 2, 3, 4],\n",
    "               [6, 2, 9, 1]]).T\n",
    "ys = np.array([7, 5, 14, 8]).T\n",
    "print(linear_regression(xs, ys))"
   ]
  },
  {
   "cell_type": "markdown",
   "metadata": {},
   "source": [
    "# Quiz3 - Guassian Distribution"
   ]
  },
  {
   "cell_type": "markdown",
   "metadata": {},
   "source": []
  }
 ],
 "metadata": {
  "kernelspec": {
   "display_name": "Python 3.9.6 64-bit",
   "language": "python",
   "name": "python3"
  },
  "language_info": {
   "codemirror_mode": {
    "name": "ipython",
    "version": 3
   },
   "file_extension": ".py",
   "mimetype": "text/x-python",
   "name": "python",
   "nbconvert_exporter": "python",
   "pygments_lexer": "ipython3",
   "version": "3.9.6"
  },
  "orig_nbformat": 4,
  "vscode": {
   "interpreter": {
    "hash": "245ac42d9dc249fcece3fb198b74e7ac1267984ccfa2d732992126806d3f9293"
   }
  }
 },
 "nbformat": 4,
 "nbformat_minor": 2
}
